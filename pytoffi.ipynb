{
 "cells": [
  {
   "cell_type": "code",
   "execution_count": 1,
   "id": "6d8384f9-57ae-4937-8e8d-2cb52a93395d",
   "metadata": {},
   "outputs": [],
   "source": [
    "import numpy as np\n",
    "# import h5py \n",
    "# import tables\n",
    "from scipy.io import loadmat"
   ]
  },
  {
   "cell_type": "code",
   "execution_count": 4,
   "id": "442d5104-2974-485b-ba57-a445ad1a40f2",
   "metadata": {},
   "outputs": [],
   "source": [
    "# import sys\n",
    "# #sys.path.append(\"..\")\n",
    "# sys.path.append(\"/Users/jan/Documents/\")"
   ]
  },
  {
   "cell_type": "code",
   "execution_count": 2,
   "id": "519deb8b-cd39-48f0-9451-c807b0631f48",
   "metadata": {},
   "outputs": [],
   "source": [
    "data_dir = \"/Users/jan/Documents/Studia/AdvancedProgramming/project/ToFFi_Toolbox-master/ToFFi_Toolbox-20211013/DATA_PREPARATION/HCP_DATA_PREP/output/000000_RENAMED\"\n",
    "\n",
    "atlas_dir = '/Users/jan/Documents/Studia/AdvancedProgramming/project/ToFFi_Toolbox-master/ToFFi_Toolbox-20211013/commonData/Schaefer2018_100Parcels_7Networks_ATLAS_interpolated_on_8mm_HCP_template.mat'\n",
    "\n",
    "template_dir = '/Users/jan/Documents/Studia/AdvancedProgramming/project/ToFFi_Toolbox-master/ToFFi_Toolbox-20211013/commonData/templategrid_HCP_8mm.mat'"
   ]
  },
  {
   "cell_type": "code",
   "execution_count": 3,
   "id": "b0bb9210-a600-4acf-9a27-885b5d3b9811",
   "metadata": {},
   "outputs": [
    {
     "name": "stdout",
     "output_type": "stream",
     "text": [
      "/Users/jan/Documents/Studia/AdvancedProgramming/project/ToFFi_Toolbox-master/ToFFi_Toolbox-20211013/DATA_PREPARATION/HCP_DATA_PREP/output/000000_RENAMED/Sub_1\n"
     ]
    }
   ],
   "source": [
    "# %cd '/Users/jan/Documents/Studia/AdvancedProgramming/project/ToFFi_Toolbox-master/ToFFi_Toolbox-20211013/DATA_PREPARATION/HCP_DATA_PREP/output/000000_RENAMED/Sub_1'"
   ]
  },
  {
   "cell_type": "code",
   "execution_count": 3,
   "id": "a7f7e47f-fa94-4788-b4ee-cfca0ae7c6aa",
   "metadata": {},
   "outputs": [
    {
     "name": "stdout",
     "output_type": "stream",
     "text": [
      "/Users/jan/Documents/Studia/AdvancedProgramming/project/PyToFFi\n"
     ]
    }
   ],
   "source": [
    "!pwd"
   ]
  },
  {
   "cell_type": "code",
   "execution_count": 3,
   "id": "32667d36-c2fa-4d74-8fc0-48e691c78d8e",
   "metadata": {},
   "outputs": [],
   "source": [
    "class DataWrap:\n",
    "    '''Class for loading data in matlab format\n",
    "    \n",
    "    - Obligatory data structures with fields:\n",
    "        - Data: self.sig['data']\n",
    "            - trial \n",
    "            - time\n",
    "            - label\n",
    "            - fsample\n",
    "        - spatial filter: self.lcmv['spatialFilter']\n",
    "        - brain atlas\n",
    "            - sourceAtlas:\n",
    "                - dim: [20 25 22]\n",
    "                - transform: [4×4 double] \n",
    "                - unit: 'cm'\n",
    "                - tissue: [20×25×22 double]\n",
    "                - tissuelabel: {1×100 cell}\n",
    "        - common source grid = sourcemodel = template grid = commonData/templategrid_HCP_8mm.mat\n",
    "            - xgrid\n",
    "            - ygrid\n",
    "            - zgrid\n",
    "            - dim\n",
    "            - pos\n",
    "            - inside\n",
    "            - outside\n",
    "    \n",
    "    '''\n",
    "    \n",
    "    \n",
    "    def __init__(self, data_dir: str, sub: int, sourcemodel: str):\n",
    "        self.data_dir = data_dir #loading the data directory path\n",
    "        self.cov = loadmat(f'{data_dir}/Sub_{sub}/data_clean_covmat_HCP_att2_{sub}.mat', simplify_cells=True) #loading covariance matrix\n",
    "        self.sig = loadmat(f'{data_dir}/Sub_{sub}/data_clean_HCP_att2_{sub}.mat', simplify_cells=True) #loading data frame - MGE signal etc.\n",
    "        self.lcmv = loadmat(f'{data_dir}/Sub_{sub}/flt_LCMV_HCP_att2_{sub}.mat', simplify_cells=True) #loading lcmv filter\n",
    "        self.template = loadmat(f'{template_dir}', simplify_cells=True)\n",
    "        \n",
    "        self.data = self.sig['data']\n",
    "        \n",
    "        # self.fsample = self.sig['data']['fsample']\n",
    "        # self.trial = self.sig['data']['trial']\n",
    "        # self.time = self.sig['data']['time']\n",
    "        # self.label = self.sig['data']['label']\n",
    "        \n",
    "        self.atl = loadmat(atlas_dir, simplify_cells=True)\n",
    "        self.atlas = self.atl['sourceAtlas']\n",
    "        # self.dim = self.atlas['dim']#[0][0][0][0]\n",
    "        # self.transform = self.\n",
    "        \n",
    "        self.sourcemodel = self.template['sourcemodel']\n"
   ]
  },
  {
   "cell_type": "code",
   "execution_count": 4,
   "id": "8f47de56-9ed5-4ed1-9861-fa0475132113",
   "metadata": {},
   "outputs": [],
   "source": [
    "sub_3 = DataWrap(data_dir=data_dir, sub=3, sourcemodel=template_dir)"
   ]
  },
  {
   "cell_type": "code",
   "execution_count": 5,
   "id": "434a7167-4778-4f01-9af4-5620d71c1c0c",
   "metadata": {},
   "outputs": [
    {
     "data": {
      "text/plain": [
       "(5798, 245)"
      ]
     },
     "execution_count": 5,
     "metadata": {},
     "output_type": "execute_result"
    }
   ],
   "source": [
    "sub_3.lcmv['spatialFilter'].shape"
   ]
  },
  {
   "cell_type": "markdown",
   "id": "5aa5c0b5-78ad-4a89-9431-065c5fe440a1",
   "metadata": {},
   "source": [
    "1. co to są cell array w matlabie - wielowymiarowa lista\n",
    "2. array w matlab - przechowuje tylko jeden typ\n",
    "3. supfunsim - paper - klasy itd\n",
    "\n",
    "4. rm_output_data - usuwanie outputi\n",
    "5. skrypt integrate\n",
    "\n",
    "6. STAGE 1 source projection \n",
    "\n",
    "7. Beamforming - lcmv\n",
    "\n",
    "8. Use group atlas from commonData \n",
    "\n",
    "sub_1.data['hdr']['Fs'] #original sampling rate = 2034...\n",
    "\n",
    "sub_1.sig['data']['fsample'] # GO TO reduced sampling rate for computations = 508...\n",
    "\n",
    "9. Mnożenie '*' w Matlabie to matrix multip. '.*' \n",
    "\n",
    "sub_3.data['trial'][0].shape #badani mogą mieć różną liczbę kanałów, 509 próbek sygnału powinno być dla każdego\n",
    "\n",
    "(245, 509)\n",
    "\n",
    "CFG.(STAGE_NAME).frequenciesOfInterest = logspace(0, log10(40), 20);\n",
    "\n",
    "NormalizeActivity - over whole brain (ToFFi) - po wszystkich voxelach i wszystkich trialach - używane do przeskalowania każdego okna czasu osobno\n",
    "\n",
    "from matlab doc, how to get onesided spectrum:\n",
    "\n",
    "    P2 = abs(Y/L); -> two sided\n",
    "    P1 = P2(1:L/2+1); -> one sided\n",
    "    -> so in python: P1 = P2(0:L/2)"
   ]
  },
  {
   "cell_type": "markdown",
   "id": "11eccf07-5e3c-4ca0-9033-413d9214b865",
   "metadata": {},
   "source": [
    "# SourceProjection"
   ]
  },
  {
   "cell_type": "code",
   "execution_count": 6,
   "id": "7877fbe2-ccec-46ff-8488-a14e616debd6",
   "metadata": {},
   "outputs": [],
   "source": [
    "def sourceProjection(data, lcmv):\n",
    "    \n",
    "# \"\"\"  \n",
    "#   Calculates product of data matrix and spatial filter matrix in order to\n",
    "# perform source activity reconstruction.\n",
    "\n",
    "# More on the topic:\n",
    "# [1] K. Sekihara and S. S. Nagarajan, Adaptive Spatial Filters for\n",
    "#     Electromagnetic Brain Imaging. Berlin Heidelberg: Springer-Verlag, 2008.\n",
    "# % Inputs\n",
    "# *cfg* - [] (empty) in current version.\n",
    "\n",
    "# *data* - structure containing following fields:\n",
    "\n",
    "# _trial_ - cell containing 2D-arrays (sensors x time frames) signal values for\n",
    "# single epochs of the multichannel signal (time segments).\n",
    "\n",
    "# _time_ - cell containing 1D-arrays (1 x time frames) containing time\n",
    "# values for single epochs of the multichannel signal (time segments).\n",
    "\n",
    "# _label_ - cell containing names of the sensors (e.g. EEG electodes, MEG squids).\n",
    "\n",
    "# _fsample_ - double; sampling frequency in Hz\n",
    "\n",
    "# *spatialFilter* - double; 2D-array which represents spatial filter\n",
    "#                   coefficients used for reconstruction on brain activity\n",
    "#                   from sensors signal (see e.g. Van Veen 1997 to learn\n",
    "#                   about LCMV spatial filter).\n",
    "# % Outputs\n",
    "# *sourceTimeSeries* - structure containing following fields:\n",
    "\n",
    "# _trial_ - cell containing 2D-arrays (sources x time frames) reconstructed\n",
    "# source activity signal values for single epochs (time segments).\n",
    "\n",
    "# _time_ - cell containing 1D-arrays (1 x time frames) containing time\n",
    "# values for single epochs of the reconstructed activity signal.\n",
    "\n",
    "# _fsample_ - double; sampling frequency in Hz\n",
    "\n",
    "# _label_ - cell containing working names of the sources\n",
    "#           ({'src_1', 'src_2', ..., 'src_5998}).\n",
    "#   \"\"\"\n",
    "\n",
    "\n",
    "    print('Source projection ...')\n",
    "    sourceTimeSeries = {}\n",
    "# SOURCE PROJECTION: apply weights to a sensor signal\n",
    "    numTrials                    = len(data['trial'])\n",
    "    numSources                   = lcmv['spatialFilter'].shape[0]\n",
    "    sourceTimeSeries['trial']    = np.empty(shape=(1, numTrials), dtype=object)\n",
    "    sourceTimeSeries['time']     = data['time']\n",
    "    sourceTimeSeries['fsample']  = data['fsample']\n",
    "    sourceTimeSeries['label']    = np.empty((numSources, 1),dtype=object) # labels are needed to perform ft_freqanalysis\n",
    "\n",
    "    for src in range(0,numSources):\n",
    "        sourceTimeSeries['label'][src] = sourceTimeSeries['label'][src]\n",
    "        sourceTimeSeries['label'][src] = 'src_'+str(src)\n",
    "    \n",
    "\n",
    "    # # source projection: q = Wy\n",
    "    for tt in range(0,numTrials): #CHANGED FROM 1-indexing IN MATLAB\n",
    "        sourceTimeSeries['trial'][0][tt] = np.matmul(lcmv['spatialFilter'],data['trial'][tt])\n",
    "    \n",
    "\n",
    "    if 'sampleinfo' in data.keys():\n",
    "        sourceTimeSeries['sampleinfo'] = data['sampleinfo']\n",
    "    \n",
    "\n",
    "    return sourceTimeSeries\n"
   ]
  },
  {
   "cell_type": "code",
   "execution_count": 7,
   "id": "8ba0271d-9737-471a-b5de-ff0e58ad9a60",
   "metadata": {},
   "outputs": [
    {
     "name": "stdout",
     "output_type": "stream",
     "text": [
      "Source projection ...\n"
     ]
    }
   ],
   "source": [
    "data_src = sourceProjection(sub_3.data, sub_3.lcmv)"
   ]
  },
  {
   "cell_type": "markdown",
   "id": "81d549ac-8cb4-47b8-8c62-571870b8ca77",
   "metadata": {},
   "source": [
    "# Frequency analysis"
   ]
  },
  {
   "cell_type": "code",
   "execution_count": 8,
   "id": "6c505330-5288-4941-a021-718d3184462c",
   "metadata": {},
   "outputs": [],
   "source": [
    "import math\n",
    "# from scipy.signal import windows\n",
    "# from scipy.fft import fft\n",
    "import matplotlib.pyplot as plt"
   ]
  },
  {
   "cell_type": "code",
   "execution_count": 9,
   "id": "2a12093d-86a4-40f0-9577-7f4f76c538a9",
   "metadata": {},
   "outputs": [
    {
     "data": {
      "text/plain": [
       "(282,)"
      ]
     },
     "execution_count": 9,
     "metadata": {},
     "output_type": "execute_result"
    }
   ],
   "source": [
    "# data_src['trial'][0].shape\n",
    "data_src['time'].shape"
   ]
  },
  {
   "cell_type": "code",
   "execution_count": 10,
   "id": "91c0b25f-7ba9-4789-b0cb-ab7d862b71ab",
   "metadata": {},
   "outputs": [
    {
     "name": "stdout",
     "output_type": "stream",
     "text": [
      "Calculating power spectra for each time segment ...\n"
     ]
    }
   ],
   "source": [
    "print('Calculating power spectra for each time segment ...')\n",
    "\n",
    "cfg = {}\n",
    "cfg['frequencies'] = np.logspace(0,math.log(40, 10),num=20)"
   ]
  },
  {
   "cell_type": "code",
   "execution_count": 11,
   "id": "30549940-bc72-4b3f-952d-d1e90f160ae4",
   "metadata": {},
   "outputs": [
    {
     "name": "stdout",
     "output_type": "stream",
     "text": [
      "(1, 282) \n",
      " (282,) \n",
      " (5798, 509)\n"
     ]
    }
   ],
   "source": [
    "print(data_src['trial'].shape,\"\\n\",\n",
    "      data_src['trial'][0].shape, \"\\n\",\n",
    "      data_src['trial'][0][0].shape)"
   ]
  },
  {
   "cell_type": "code",
   "execution_count": null,
   "id": "feca37a6-c2cc-4669-bcb4-d56c9c29882d",
   "metadata": {},
   "outputs": [],
   "source": [
    "#Robert C. Martin"
   ]
  },
  {
   "cell_type": "code",
   "execution_count": 12,
   "id": "2fcca49d-beb2-4458-92b6-71e7eae1803d",
   "metadata": {},
   "outputs": [],
   "source": [
    "from spectrum import *\n",
    "# res = pmtm(signal, NW=2.5, k=5, show=False, method='unity')"
   ]
  },
  {
   "cell_type": "code",
   "execution_count": 144,
   "id": "3292d2e0-ec80-4a89-b6c4-7439ef78cdaf",
   "metadata": {},
   "outputs": [
    {
     "name": "stdout",
     "output_type": "stream",
     "text": [
      "5798 282\n"
     ]
    }
   ],
   "source": [
    "trials = data_src['trial'][0]\n",
    "n_trials = data_src['trial'][0].shape[0]\n",
    "n_src = data_src['trial'][0][0].shape[0]\n",
    "print(n_src, n_trials)"
   ]
  },
  {
   "cell_type": "code",
   "execution_count": 145,
   "id": "4a80c382-d5a3-4c44-b6d9-ba67916ab17e",
   "metadata": {},
   "outputs": [
    {
     "data": {
      "text/plain": [
       "5798"
      ]
     },
     "execution_count": 145,
     "metadata": {},
     "output_type": "execute_result"
    }
   ],
   "source": [
    "n_src"
   ]
  },
  {
   "cell_type": "code",
   "execution_count": 146,
   "id": "45981d0f-bd58-4d66-83f7-1301ff54bef5",
   "metadata": {},
   "outputs": [],
   "source": [
    "pow_spectra = np.empty((282, 5798), dtype=object)\n",
    "trial_idx = 0\n",
    "for i_trial in trials:\n",
    "    \n",
    "    for i_src in range(0,n_src):\n",
    "        spectrum_windowed = pmtm(i_trial[i_src,:], NW=2.5, k=5, show=False, method='unity')[0]\n",
    "        pow_spectrum_trial = abs(spectrum_windowed)**2\n",
    "        pow_spectrum_trial = np.mean(pow_spectrum_trial,axis=0)\n",
    "        pow_spectra[trial_idx, i_src] = pow_spectrum_trial[0:int(len(pow_spectrum_trial)/2)]\n",
    "        #na wyjściu - zbiór power spectrum dla każdego źródła dla każdego sampla\n",
    "        #uśrednianie \n",
    "        \n",
    "    trial_idx += 1"
   ]
  },
  {
   "cell_type": "code",
   "execution_count": 147,
   "id": "b20f4750-dec4-468d-b3f4-7f7ca465227c",
   "metadata": {},
   "outputs": [],
   "source": [
    "np.save('/Users/jan/Documents/Studia/AdvancedProgramming/project/ToFFiPy/pow_spectra', pow_spectra)"
   ]
  },
  {
   "cell_type": "markdown",
   "id": "eeb1716c-2132-440f-96f1-37c3173fedcd",
   "metadata": {},
   "source": [
    "## Normalizing power spectra across whole brain"
   ]
  },
  {
   "cell_type": "code",
   "execution_count": 150,
   "id": "d19294f7-b3dc-49e1-9bee-ee83ebe9b8bd",
   "metadata": {},
   "outputs": [
    {
     "data": {
      "text/plain": [
       "(256,)"
      ]
     },
     "execution_count": 150,
     "metadata": {},
     "output_type": "execute_result"
    }
   ],
   "source": [
    "pow_spectra[0,0].shape"
   ]
  },
  {
   "cell_type": "code",
   "execution_count": 151,
   "id": "77b3eb7d-cf0e-4602-bd71-b8a12614cb2b",
   "metadata": {},
   "outputs": [],
   "source": [
    "mean_pow_spectra_trials = np.mean(pow_spectra, axis=0)"
   ]
  },
  {
   "cell_type": "code",
   "execution_count": 154,
   "id": "86e73c48-5217-43d8-9ffd-1eccfb9def1a",
   "metadata": {},
   "outputs": [],
   "source": [
    "mean_pow_spectra_trials_and_vox = np.mean(mean_pow_spectra_trials)"
   ]
  },
  {
   "cell_type": "code",
   "execution_count": null,
   "id": "fcabebfe-8619-4d92-8c08-1fc08dab0889",
   "metadata": {},
   "outputs": [],
   "source": [
    "mean_pow_spectra_trials_and_vox"
   ]
  },
  {
   "cell_type": "code",
   "execution_count": null,
   "id": "f0cd6129-9991-4da4-a048-e746c9ee3c99",
   "metadata": {},
   "outputs": [],
   "source": [
    "# pow_spectra = np.load('/Users/jan/Documents/Studia/AdvancedProgramming/project/ToFFiPy/pow_spectra.npy', allow_pickle=True)"
   ]
  },
  {
   "cell_type": "code",
   "execution_count": 162,
   "id": "6449982d-dd66-4900-954b-262bae46719f",
   "metadata": {},
   "outputs": [],
   "source": [
    "pow_spectra_normalized = np.empty((282, 5798), dtype=object)\n",
    "\n",
    "trial_idx = 0\n",
    "for i_trial in trials:\n",
    "    \n",
    "    for i_src in range(0,n_src):\n",
    "        pow_spectra_normalized[trial_idx, i_src] = pow_spectra[trial_idx, i_src]/mean_pow_spectra_trials_and_vox\n",
    "        \n",
    "    trial_idx += 1"
   ]
  },
  {
   "cell_type": "code",
   "execution_count": 170,
   "id": "1e716c33-25fd-44f5-a314-1e05621ec417",
   "metadata": {},
   "outputs": [
    {
     "data": {
      "text/plain": [
       "(282, 5798)"
      ]
     },
     "execution_count": 170,
     "metadata": {},
     "output_type": "execute_result"
    }
   ],
   "source": [
    "pow_spectra_normalized.shape"
   ]
  },
  {
   "cell_type": "markdown",
   "id": "b30ff5f6-1e76-4c1b-9ed6-c8e673e617eb",
   "metadata": {
    "jp-MarkdownHeadingCollapsed": true,
    "tags": []
   },
   "source": [
    "## Trying scipy dpss multitapering"
   ]
  },
  {
   "cell_type": "code",
   "execution_count": null,
   "id": "f174dde5-1a6b-4bb1-824d-520f87f2dfeb",
   "metadata": {},
   "outputs": [],
   "source": [
    "cfgFreq = {}\n",
    "\n",
    "\n",
    "cfgFreq['method'] = 'mtmfft'\n",
    "cfgFreq['output'] = 'pow'\n",
    "cfgFreq['taper']  = 'dpss'\n",
    "cfgFreq['tapsmofrq'] = 2\n",
    "cfgFreq['pad'] = 2\n",
    "cfgFreq['keeptrials'] = 'yes'\n",
    "cfgFreq['foi'] = cfg['frequencies']\n",
    "\n",
    "# powSpectra  = ft_freqanalysis(cfgFreq, timeSeries);\n",
    "# outputFrequencies   = powSpectra.freq;\n"
   ]
  },
  {
   "cell_type": "code",
   "execution_count": 17,
   "id": "176ce598-22cc-4052-9449-0a588653a372",
   "metadata": {},
   "outputs": [
    {
     "data": {
      "image/png": "[encoded data removed]",
      "text/plain": [
       "<Figure size 640x480 with 1 Axes>"
      ]
     },
     "metadata": {},
     "output_type": "display_data"
    }
   ],
   "source": [
    "import numpy as np\n",
    "import scipy.signal.windows as windows\n",
    "\n",
    "# Generate a signal\n",
    "N = 1024  # Number of samples\n",
    "t = np.arange(N)  # Time vector\n",
    "signal = np.sin(2 * np.pi * 50 * t / N)# + np.sin(2 * np.pi * 25 * t / N)  # Example signal (10 Hz sine wave)\n",
    "\n",
    "# Compute the DPSS window\n",
    "M = 256  # Length of the window\n",
    "NW = 8  # Normalized half-bandwidth (odpowiednik spectral smoothing) BW/df\n",
    "\n",
    "window = windows.dpss(M, NW)\n",
    "\n",
    "# Apply the window to the signal\n",
    "windowed_signal = signal[:M] * window\n",
    "\n",
    "# Compute the power spectrum\n",
    "spectrum = np.abs(np.fft.fft(windowed_signal))**2\n",
    "\n",
    "# Normalize the spectrum\n",
    "spectrum /= np.sum(window)**2\n",
    "\n",
    "# Frequency vector\n",
    "freq = np.fft.fftfreq(M, d=1/1024)\n",
    "\n",
    "# Plot the power spectrum\n",
    "import matplotlib.pyplot as plt\n",
    "plt.plot(freq[:50], spectrum[:50])\n",
    "# plt.plot(t, signal)\n",
    "plt.xlabel('Frequency')\n",
    "plt.ylabel('Power')\n",
    "plt.title('Power Spectrum')\n",
    "plt.show()"
   ]
  },
  {
   "cell_type": "code",
   "execution_count": null,
   "id": "8e13caf9-151e-4ae6-b80d-7535038c72a5",
   "metadata": {},
   "outputs": [],
   "source": []
  }
 ],
 "metadata": {
  "kernelspec": {
   "display_name": "Python 3 (ipykernel)",
   "language": "python",
   "name": "python3"
  },
  "language_info": {
   "codemirror_mode": {
    "name": "ipython",
    "version": 3
   },
   "file_extension": ".py",
   "mimetype": "text/x-python",
   "name": "python",
   "nbconvert_exporter": "python",
   "pygments_lexer": "ipython3",
   "version": "3.8.2"
  }
 },
 "nbformat": 4,
 "nbformat_minor": 5
}
