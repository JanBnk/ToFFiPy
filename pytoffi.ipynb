{
 "cells": [
  {
   "cell_type": "code",
   "execution_count": 3,
   "id": "6d8384f9-57ae-4937-8e8d-2cb52a93395d",
   "metadata": {},
   "outputs": [],
   "source": [
    "import numpy as np\n",
    "# import h5py \n",
    "# import tables\n",
    "from scipy.io import loadmat"
   ]
  },
  {
   "cell_type": "code",
   "execution_count": 6,
   "id": "442d5104-2974-485b-ba57-a445ad1a40f2",
   "metadata": {},
   "outputs": [],
   "source": [
    "# import sys\n",
    "# #sys.path.append(\"..\")\n",
    "# sys.path.append(\"/Users/jan/Documents/\")"
   ]
  },
  {
   "cell_type": "code",
   "execution_count": 4,
   "id": "519deb8b-cd39-48f0-9451-c807b0631f48",
   "metadata": {},
   "outputs": [],
   "source": [
    "data_dir = \"/Users/jan/Documents/Studia/AdvancedProgramming/project/ToFFi_Toolbox-master/ToFFi_Toolbox-20211013/DATA_PREPARATION/HCP_DATA_PREP/output/000000_RENAMED\"\n",
    "\n",
    "atlas_dir = '/Users/jan/Documents/Studia/AdvancedProgramming/project/ToFFi_Toolbox-master/ToFFi_Toolbox-20211013/commonData/Schaefer2018_100Parcels_7Networks_ATLAS_interpolated_on_8mm_HCP_template.mat'\n",
    "\n",
    "template_dir = '/Users/jan/Documents/Studia/AdvancedProgramming/project/ToFFi_Toolbox-master/ToFFi_Toolbox-20211013/commonData/templategrid_HCP_8mm.mat'"
   ]
  },
  {
   "cell_type": "code",
   "execution_count": 3,
   "id": "b0bb9210-a600-4acf-9a27-885b5d3b9811",
   "metadata": {},
   "outputs": [
    {
     "name": "stdout",
     "output_type": "stream",
     "text": [
      "/Users/jan/Documents/Studia/AdvancedProgramming/project/ToFFi_Toolbox-master/ToFFi_Toolbox-20211013/DATA_PREPARATION/HCP_DATA_PREP/output/000000_RENAMED/Sub_1\n"
     ]
    }
   ],
   "source": [
    "# %cd '/Users/jan/Documents/Studia/AdvancedProgramming/project/ToFFi_Toolbox-master/ToFFi_Toolbox-20211013/DATA_PREPARATION/HCP_DATA_PREP/output/000000_RENAMED/Sub_1'"
   ]
  },
  {
   "cell_type": "code",
   "execution_count": 3,
   "id": "a7f7e47f-fa94-4788-b4ee-cfca0ae7c6aa",
   "metadata": {},
   "outputs": [
    {
     "name": "stdout",
     "output_type": "stream",
     "text": [
      "/Users/jan/Documents/Studia/AdvancedProgramming/project/PyToFFi\n"
     ]
    }
   ],
   "source": [
    "!pwd"
   ]
  },
  {
   "cell_type": "code",
   "execution_count": 5,
   "id": "32667d36-c2fa-4d74-8fc0-48e691c78d8e",
   "metadata": {},
   "outputs": [],
   "source": [
    "class DataWrap:\n",
    "    '''Class for loading data in matlab format\n",
    "    \n",
    "    - Obligatory data structures with fields:\n",
    "        - Data: self.sig['data']\n",
    "            - trial \n",
    "            - time\n",
    "            - label\n",
    "            - fsample\n",
    "        - spatial filter: self.lcmv['spatialFilter']\n",
    "        - brain atlas\n",
    "            - sourceAtlas:\n",
    "                - dim: [20 25 22]\n",
    "                - transform: [4×4 double] \n",
    "                - unit: 'cm'\n",
    "                - tissue: [20×25×22 double]\n",
    "                - tissuelabel: {1×100 cell}\n",
    "        - common source grid = sourcemodel = template grid = commonData/templategrid_HCP_8mm.mat\n",
    "            - xgrid\n",
    "            - ygrid\n",
    "            - zgrid\n",
    "            - dim\n",
    "            - pos\n",
    "            - inside\n",
    "            - outside\n",
    "    \n",
    "    '''\n",
    "    \n",
    "    \n",
    "    def __init__(self, data_dir: str, sub: int, sourcemodel: str):\n",
    "        self.data_dir = data_dir #loading the data directory path\n",
    "        self.cov = loadmat(f'{data_dir}/Sub_{sub}/data_clean_covmat_HCP_att2_{sub}.mat', simplify_cells=True) #loading covariance matrix\n",
    "        self.sig = loadmat(f'{data_dir}/Sub_{sub}/data_clean_HCP_att2_{sub}.mat', simplify_cells=True) #loading data frame - MGE signal etc.\n",
    "        self.lcmv = loadmat(f'{data_dir}/Sub_{sub}/flt_LCMV_HCP_att2_{sub}.mat', simplify_cells=True) #loading lcmv filter\n",
    "        self.template = loadmat(f'{template_dir}', simplify_cells=True)\n",
    "        \n",
    "        self.data = self.sig['data']\n",
    "        \n",
    "        # self.fsample = self.sig['data']['fsample']\n",
    "        # self.trial = self.sig['data']['trial']\n",
    "        # self.time = self.sig['data']['time']\n",
    "        # self.label = self.sig['data']['label']\n",
    "        \n",
    "        self.atl = loadmat(atlas_dir, simplify_cells=True)\n",
    "        self.atlas = self.atl['sourceAtlas']\n",
    "        # self.dim = self.atlas['dim']#[0][0][0][0]\n",
    "        # self.transform = self.\n",
    "        \n",
    "        self.sourcemodel = self.template['sourcemodel']\n"
   ]
  },
  {
   "cell_type": "code",
   "execution_count": 6,
   "id": "8f47de56-9ed5-4ed1-9861-fa0475132113",
   "metadata": {},
   "outputs": [],
   "source": [
    "sub_3 = DataWrap(data_dir=data_dir, sub=3, sourcemodel=template_dir)"
   ]
  },
  {
   "cell_type": "code",
   "execution_count": 7,
   "id": "434a7167-4778-4f01-9af4-5620d71c1c0c",
   "metadata": {},
   "outputs": [
    {
     "data": {
      "text/plain": [
       "(5798, 245)"
      ]
     },
     "execution_count": 7,
     "metadata": {},
     "output_type": "execute_result"
    }
   ],
   "source": [
    "sub_3.lcmv['spatialFilter'].shape"
   ]
  },
  {
   "cell_type": "markdown",
   "id": "5aa5c0b5-78ad-4a89-9431-065c5fe440a1",
   "metadata": {},
   "source": [
    "1. co to są cell array w matlabie - wielowymiarowa lista\n",
    "2. array w matlab - przechowuje tylko jeden typ\n",
    "3. supfunsim - paper - klasy itd\n",
    "\n",
    "4. rm_output_data - usuwanie outputi\n",
    "5. skrypt integrate\n",
    "\n",
    "6. STAGE 1 source projection \n",
    "\n",
    "7. Beamforming - lcmv\n",
    "\n",
    "8. Use group atlas from commonData \n",
    "\n",
    "sub_1.data['hdr']['Fs'] #original sampling rate = 2034...\n",
    "\n",
    "sub_1.sig['data']['fsample'] # GO TO reduced sampling rate for computations = 508...\n",
    "\n",
    "9. Mnożenie '*' w Matlabie to matrix multip. '.*' \n",
    "\n",
    "sub_3.data['trial'][0].shape #badani mogą mieć różną liczbę kanałów, 509 próbek sygnału powinno być dla każdego\n",
    "\n",
    "(245, 509)\n",
    "\n",
    "CFG.(STAGE_NAME).frequenciesOfInterest = logspace(0, log10(40), 20);"
   ]
  },
  {
   "cell_type": "code",
   "execution_count": 8,
   "id": "7877fbe2-ccec-46ff-8488-a14e616debd6",
   "metadata": {},
   "outputs": [],
   "source": [
    "def sourceProjection(data, lcmv):\n",
    "    \n",
    "# \"\"\"  \n",
    "#   Calculates product of data matrix and spatial filter matrix in order to\n",
    "# perform source activity reconstruction.\n",
    "\n",
    "# More on the topic:\n",
    "# [1] K. Sekihara and S. S. Nagarajan, Adaptive Spatial Filters for\n",
    "#     Electromagnetic Brain Imaging. Berlin Heidelberg: Springer-Verlag, 2008.\n",
    "# % Inputs\n",
    "# *cfg* - [] (empty) in current version.\n",
    "\n",
    "# *data* - structure containing following fields:\n",
    "\n",
    "# _trial_ - cell containing 2D-arrays (sensors x time frames) signal values for\n",
    "# single epochs of the multichannel signal (time segments).\n",
    "\n",
    "# _time_ - cell containing 1D-arrays (1 x time frames) containing time\n",
    "# values for single epochs of the multichannel signal (time segments).\n",
    "\n",
    "# _label_ - cell containing names of the sensors (e.g. EEG electodes, MEG squids).\n",
    "\n",
    "# _fsample_ - double; sampling frequency in Hz\n",
    "\n",
    "# *spatialFilter* - double; 2D-array which represents spatial filter\n",
    "#                   coefficients used for reconstruction on brain activity\n",
    "#                   from sensors signal (see e.g. Van Veen 1997 to learn\n",
    "#                   about LCMV spatial filter).\n",
    "# % Outputs\n",
    "# *sourceTimeSeries* - structure containing following fields:\n",
    "\n",
    "# _trial_ - cell containing 2D-arrays (sources x time frames) reconstructed\n",
    "# source activity signal values for single epochs (time segments).\n",
    "\n",
    "# _time_ - cell containing 1D-arrays (1 x time frames) containing time\n",
    "# values for single epochs of the reconstructed activity signal.\n",
    "\n",
    "# _fsample_ - double; sampling frequency in Hz\n",
    "\n",
    "# _label_ - cell containing working names of the sources\n",
    "#           ({'src_1', 'src_2', ..., 'src_5998}).\n",
    "#   \"\"\"\n",
    "\n",
    "\n",
    "    print('Source projection ...')\n",
    "    sourceTimeSeries = {}\n",
    "# SOURCE PROJECTION: apply weights to a sensor signal\n",
    "    numTrials                    = len(data['trial'])\n",
    "    numSources                   = lcmv['spatialFilter'].shape[0]\n",
    "    sourceTimeSeries['trial']    = np.empty(shape=(1, numTrials), dtype=object)\n",
    "    sourceTimeSeries['time']     = data['time']\n",
    "    sourceTimeSeries['fsample']  = data['fsample']\n",
    "    sourceTimeSeries['label']    = np.empty((numSources, 1),dtype=object) # labels are needed to perform ft_freqanalysis\n",
    "\n",
    "    for src in range(0,numSources):\n",
    "        sourceTimeSeries['label'][src] = sourceTimeSeries['label'][src]\n",
    "        sourceTimeSeries['label'][src] = 'src_'+str(src)\n",
    "    \n",
    "\n",
    "    # # source projection: q = Wy\n",
    "    for tt in range(0,numTrials): #CHANGED FROM 1-indexing IN MATLAB\n",
    "        sourceTimeSeries['trial'][0][tt] = np.matmul(lcmv['spatialFilter'],data['trial'][tt])\n",
    "    \n",
    "\n",
    "    if 'sampleinfo' in data.keys():\n",
    "        sourceTimeSeries['sampleinfo'] = data['sampleinfo']\n",
    "    \n",
    "\n",
    "    return sourceTimeSeries\n"
   ]
  },
  {
   "cell_type": "code",
   "execution_count": 9,
   "id": "8ba0271d-9737-471a-b5de-ff0e58ad9a60",
   "metadata": {},
   "outputs": [
    {
     "name": "stdout",
     "output_type": "stream",
     "text": [
      "Source projection ...\n"
     ]
    }
   ],
   "source": [
    "data_src = sourceProjection(sub_3.data, sub_3.lcmv)"
   ]
  },
  {
   "cell_type": "markdown",
   "id": "81d549ac-8cb4-47b8-8c62-571870b8ca77",
   "metadata": {},
   "source": [
    "# Frequency analysis with syncopy"
   ]
  },
  {
   "cell_type": "code",
   "execution_count": 36,
   "id": "6c505330-5288-4941-a021-718d3184462c",
   "metadata": {},
   "outputs": [],
   "source": [
    "import math\n",
    "from scipy.signal import windows\n"
   ]
  },
  {
   "cell_type": "code",
   "execution_count": 37,
   "id": "505d9f0e-e692-4d6d-8c83-9796280b3fd4",
   "metadata": {},
   "outputs": [
    {
     "name": "stdout",
     "output_type": "stream",
     "text": [
      "Calculating power spectra for each time segment ...\n"
     ]
    }
   ],
   "source": [
    "print('Calculating power spectra for each time segment ...')\n",
    "\n",
    "cfg = {}\n",
    "cfg['frequencies'] = np.logspace(0,math.log(40, 10),num=20)\n",
    "\n"
   ]
  },
  {
   "cell_type": "code",
   "execution_count": 38,
   "id": "708dee72-0b87-469b-9875-ac179181cd51",
   "metadata": {},
   "outputs": [],
   "source": [
    "x = windows.dpss(,)"
   ]
  },
  {
   "cell_type": "code",
   "execution_count": 39,
   "id": "ee04cafa-1d42-456b-8d60-c3ef80a387d9",
   "metadata": {},
   "outputs": [
    {
     "data": {
      "text/plain": [
       "array([1.])"
      ]
     },
     "execution_count": 39,
     "metadata": {},
     "output_type": "execute_result"
    }
   ],
   "source": []
  },
  {
   "cell_type": "code",
   "execution_count": 28,
   "id": "f174dde5-1a6b-4bb1-824d-520f87f2dfeb",
   "metadata": {},
   "outputs": [
    {
     "name": "stdout",
     "output_type": "stream",
     "text": [
      "20:07:25 - CRITICAL: \u001b[0;31m\n",
      "SyNCoPy encountered an error in\u001b[0m \n",
      "\n",
      "\u001b[0;32m/var/folders/hr/8qs4_3tn5tb9cg_2gmnz7pc00000gn/T/ipykernel_3179/720840815.py\u001b[0m, line \u001b[1;32m10\u001b[0m in \u001b[1;35m<module>\u001b[0m\n",
      "\t\u001b[0;31mcfgFreq.data        = spy.AnalogData(data_src)\u001b[0m\n",
      "\n",
      "--------------------------------------------------------------------------------\n",
      "Abbreviated traceback:\n",
      "\n",
      "/Users/jan/anaconda3/lib/python3.10/site-packages/syncopy/datatype/continuous_data.py, line 401 in __init__\n",
      "\tsuper().__init__(data=data,\n",
      "/Users/jan/anaconda3/lib/python3.10/site-packages/syncopy/datatype/continuous_data.py, line 317 in __init__\n",
      "\tsuper().__init__(data=data, **kwargs)\n",
      "/Users/jan/anaconda3/lib/python3.10/site-packages/syncopy/datatype/base_data.py, line 1458 in __init__\n",
      "\tsetattr(self, propertyName, kwargs[propertyName])\n",
      "/Users/jan/anaconda3/lib/python3.10/site-packages/syncopy/datatype/continuous_data.py, line 66 in data\n",
      "\tself._set_dataset_property(inData, \"data\")\n",
      "/Users/jan/anaconda3/lib/python3.10/site-packages/syncopy/datatype/base_data.py, line 293 in _set_dataset_property\n",
      "\traise SPYTypeError(inData, varname=\"data\", expected=msg)\n",
      "\n",
      "Use `import traceback; import sys; traceback.print_tb(sys.last_traceback)` for full error traceback.\n",
      "\n",
      "\u001b[0;31m\u001b[1mSPYTypeError\u001b[0m\u001b[1m: Wrong type of `data`: expected filename of HDF5 file, HDF5 dataset, list, generator or NumPy array found dict\n",
      "\u001b[0m\n"
     ]
    }
   ],
   "source": [
    "cfgFreq = {}\n",
    "\n",
    "\n",
    "cfgFreq['method'] = 'mtmfft'\n",
    "cfgFreq['output'] = 'pow'\n",
    "cfgFreq['taper']  = 'dpss'\n",
    "cfgFreq['tapsmofrq'] = 2\n",
    "cfgFreq['pad'] = 2\n",
    "cfgFreq['keeptrials'] = 'yes'\n",
    "cfgFreq['foi'] = cfg['frequencies']\n",
    "\n",
    "# powSpectra  = ft_freqanalysis(cfgFreq, timeSeries);\n",
    "# outputFrequencies   = powSpectra.freq;\n"
   ]
  }
 ],
 "metadata": {
  "kernelspec": {
   "display_name": "Python 3 (ipykernel)",
   "language": "python",
   "name": "python3"
  },
  "language_info": {
   "codemirror_mode": {
    "name": "ipython",
    "version": 3
   },
   "file_extension": ".py",
   "mimetype": "text/x-python",
   "name": "python",
   "nbconvert_exporter": "python",
   "pygments_lexer": "ipython3",
   "version": "3.10.9"
  }
 },
 "nbformat": 4,
 "nbformat_minor": 5
}
