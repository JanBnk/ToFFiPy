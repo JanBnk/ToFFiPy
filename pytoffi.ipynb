{
 "cells": [
  {
   "cell_type": "code",
   "execution_count": 1,
   "id": "6d8384f9-57ae-4937-8e8d-2cb52a93395d",
   "metadata": {},
   "outputs": [],
   "source": [
    "import numpy as np\n",
    "# import h5py \n",
    "# import tables\n",
    "from scipy.io import loadmat"
   ]
  },
  {
   "cell_type": "code",
   "execution_count": 2,
   "id": "519deb8b-cd39-48f0-9451-c807b0631f48",
   "metadata": {},
   "outputs": [],
   "source": [
<<<<<<< HEAD
    "data_dir = \"/home/jan/Documents/Studia/AdvancedProgramming/project/ToFFi_Toolbox-master/ToFFi_Toolbox-20211013/DATA_PREPARATION/HCP_DATA_PREP/output/000000_RENAMED\"\n",
    "\n",
    "atlas_dir = '/home/jan/Documents/Studia/AdvancedProgramming/project/ToFFi_Toolbox-master/ToFFi_Toolbox-20211013/commonData/Schaefer2018_100Parcels_7Networks_ATLAS_interpolated_on_8mm_HCP_template.mat'\n",
    "\n",
    "template_dir = '/home/jan/Documents/Studia/AdvancedProgramming/project/ToFFi_Toolbox-master/ToFFi_Toolbox-20211013/commonData/templategrid_HCP_8mm.mat'"
=======
    "data_dir = \"/Users/jan/Documents/Studia/AdvancedProgramming/project/ToFFi_Toolbox-master/ToFFi_Toolbox-20211013/DATA_PREPARATION/HCP_DATA_PREP/output/000000_RENAMED\""
>>>>>>> refs/remotes/origin/main
   ]
  },
  {
   "cell_type": "code",
   "execution_count": 3,
   "id": "b0bb9210-a600-4acf-9a27-885b5d3b9811",
   "metadata": {},
   "outputs": [
    {
     "name": "stdout",
     "output_type": "stream",
     "text": [
      "/Users/jan/Documents/Studia/AdvancedProgramming/project/ToFFi_Toolbox-master/ToFFi_Toolbox-20211013/DATA_PREPARATION/HCP_DATA_PREP/output/000000_RENAMED/Sub_1\n"
     ]
    }
   ],
   "source": [
<<<<<<< HEAD
    "# %cd '/Users/jan/Documents/Studia/AdvancedProgramming/project/ToFFi_Toolbox-master/ToFFi_Toolbox-20211013/DATA_PREPARATION/HCP_DATA_PREP/output/000000_RENAMED/Sub_1'"
=======
    "%cd '/Users/jan/Documents/Studia/AdvancedProgramming/project/ToFFi_Toolbox-master/ToFFi_Toolbox-20211013/DATA_PREPARATION/HCP_DATA_PREP/output/000000_RENAMED/Sub_1'"
>>>>>>> refs/remotes/origin/main
   ]
  },
  {
   "cell_type": "code",
<<<<<<< HEAD
   "execution_count": 3,
=======
   "execution_count": 4,
>>>>>>> refs/remotes/origin/main
   "id": "a7f7e47f-fa94-4788-b4ee-cfca0ae7c6aa",
   "metadata": {},
   "outputs": [
    {
     "name": "stdout",
     "output_type": "stream",
     "text": [
<<<<<<< HEAD
      "/home/jan/Documents/Studia/AdvancedProgramming/project/PyToFFi\n"
=======
      "/Users/jan/Documents/Studia/AdvancedProgramming/project/ToFFi_Toolbox-master/ToFFi_Toolbox-20211013/DATA_PREPARATION/HCP_DATA_PREP/output/000000_RENAMED/Sub_1\n"
>>>>>>> refs/remotes/origin/main
     ]
    }
   ],
   "source": [
    "!pwd"
   ]
  },
  {
   "cell_type": "code",
<<<<<<< HEAD
   "execution_count": 3,
   "id": "32667d36-c2fa-4d74-8fc0-48e691c78d8e",
   "metadata": {},
   "outputs": [],
   "source": [
    "class DataWrap:\n",
    "    '''Class for loading data in matlab format\n",
    "    \n",
    "    - Obligatory data structures with fields:\n",
    "        - Data: self.sig['data']\n",
    "            - trial \n",
    "            - time\n",
    "            - label\n",
    "            - fsample\n",
    "        - spatial filter: self.lcmv['spatialFilter']\n",
    "        - brain atlas\n",
    "            - sourceAtlas:\n",
    "                - dim: [20 25 22]\n",
    "                - transform: [4×4 double] \n",
    "                - unit: 'cm'\n",
    "                - tissue: [20×25×22 double]\n",
    "                - tissuelabel: {1×100 cell}\n",
    "        - common source grid = sourcemodel = template grid = commonData/templategrid_HCP_8mm.mat\n",
    "            - xgrid\n",
    "            - ygrid\n",
    "            - zgrid\n",
    "            - dim\n",
    "            - pos\n",
    "            - inside\n",
    "            - outside\n",
    "    \n",
    "    '''\n",
    "    \n",
    "    \n",
    "    def __init__(self, data_dir: str, sub: int, sourcemodel: str):\n",
    "        self.data_dir = data_dir #loading the data directory path\n",
    "        self.cov = loadmat(f'{data_dir}/Sub_{sub}/data_clean_covmat_HCP_att2_{sub}.mat', simplify_cells=True) #loading covariance matrix\n",
    "        self.sig = loadmat(f'{data_dir}/Sub_{sub}/data_clean_HCP_att2_{sub}.mat', simplify_cells=True) #loading data frame - MGE signal etc.\n",
    "        self.lcmv = loadmat(f'{data_dir}/Sub_{sub}/flt_LCMV_HCP_att2_{sub}.mat', simplify_cells=True) #loading lcmv filter\n",
    "        self.template = loadmat(f'{template_dir}', simplify_cells=True)\n",
    "        \n",
    "        self.data = self.sig['data']\n",
    "        \n",
    "        # self.fsample = self.sig['data']['fsample']\n",
    "        # self.trial = self.sig['data']['trial']\n",
    "        # self.time = self.sig['data']['time']\n",
    "        # self.label = self.sig['data']['label']\n",
    "        \n",
    "        self.atl = loadmat(atlas_dir, simplify_cells=True)\n",
    "        self.atlas = self.atl['sourceAtlas']\n",
    "        # self.dim = self.atlas['dim']#[0][0][0][0]\n",
    "        # self.transform = self.\n",
    "        \n",
    "        self.sourcemodel = self.template['sourcemodel']\n"
   ]
  },
  {
   "cell_type": "code",
   "execution_count": 4,
   "id": "8f47de56-9ed5-4ed1-9861-fa0475132113",
   "metadata": {},
   "outputs": [],
   "source": [
    "sub_3 = DataWrap(data_dir=data_dir, sub=3, sourcemodel=template_dir)"
   ]
  },
  {
   "cell_type": "code",
   "execution_count": 5,
   "id": "434a7167-4778-4f01-9af4-5620d71c1c0c",
=======
   "execution_count": 5,
   "id": "96e584f7-75a4-488b-9494-943c8bf04f02",
   "metadata": {},
   "outputs": [],
   "source": [
    "# sub_1 = tables.open_file('data_clean_covmat_HCP_att2_1.mat')\n",
    "\n",
    "sub_1_cov = loadmat('data_clean_covmat_HCP_att2_1.mat')\n",
    "sub_1_sig = loadmat('data_clean_HCP_att2_1.mat', simplify_cells=True)\n",
    "sub_1_lcmv = loadmat('flt_LCMV_HCP_att2_1.mat')\n",
    "# sub_2 = f'{data_dir}/Sub_2/data_clean_covmat_HCP_att2_1.mat'\n",
    "# f=h5py.File(sub_1, 'r')\n",
    "\n",
    "\n",
    "# sub_1 = h5py.File(f'{data_dir}/Sub_1/data_clean_HCP_att2_1.mat','r') \n",
    "# data = sub_1.get('data/variable1') # Get a certain dataset\n",
    "# data = np.array(data)"
   ]
  },
  {
   "cell_type": "code",
   "execution_count": 7,
   "id": "6a9e57eb-1fbd-40c7-8292-c77cb8447128",
>>>>>>> refs/remotes/origin/main
   "metadata": {},
   "outputs": [
    {
     "data": {
      "text/plain": [
<<<<<<< HEAD
       "(5798, 245)"
      ]
     },
     "execution_count": 5,
=======
       "-2.460787640915133e-13"
      ]
     },
     "execution_count": 7,
>>>>>>> refs/remotes/origin/main
     "metadata": {},
     "output_type": "execute_result"
    }
   ],
   "source": [
<<<<<<< HEAD
    "sub_3.lcmv['spatialFilter'].shape"
=======
    "sub_1_sig['data']['trial'][0][0][0]#[0][0][0] # this accesses single value"
   ]
  },
  {
   "cell_type": "code",
   "execution_count": 9,
   "id": "958b4b26-22d6-403f-bdd5-6b6519bf5a8f",
   "metadata": {},
   "outputs": [
    {
     "data": {
      "text/plain": [
       "dict_keys(['__header__', '__version__', '__globals__', 'data'])"
      ]
     },
     "execution_count": 9,
     "metadata": {},
     "output_type": "execute_result"
    }
   ],
   "source": [
    "sub_1_sig.keys()"
   ]
  },
  {
   "cell_type": "code",
   "execution_count": 10,
   "id": "0def78cc-1a17-4384-a639-78f267981427",
   "metadata": {},
   "outputs": [
    {
     "data": {
      "text/plain": [
       "dict"
      ]
     },
     "execution_count": 10,
     "metadata": {},
     "output_type": "execute_result"
    }
   ],
   "source": [
    "data_arr = sub_1_sig['data']\n",
    "type(data_arr)"
   ]
  },
  {
   "cell_type": "code",
   "execution_count": 11,
   "id": "28a1ae45-a4ce-4ea7-86f3-2e32a5537bda",
   "metadata": {},
   "outputs": [
    {
     "data": {
      "text/plain": [
       "dict_keys(['fsample', 'hdr', 'grad', 'sampleinfo', 'trial', 'time', 'label', 'cfg'])"
      ]
     },
     "execution_count": 11,
     "metadata": {},
     "output_type": "execute_result"
    }
   ],
   "source": [
    "data_arr.keys()"
   ]
  },
  {
   "cell_type": "code",
   "execution_count": 20,
   "id": "28e4f657-6116-4f7f-aaf7-2ce013fac689",
   "metadata": {},
   "outputs": [
    {
     "name": "stdout",
     "output_type": "stream",
     "text": [
      "508.62752490487884\n"
     ]
    }
   ],
   "source": [
    "print(data_arr['fsample']) #sampling rate?\n",
    "# print(data_arr['cfg'])"
   ]
  },
  {
   "cell_type": "code",
   "execution_count": 23,
   "id": "b8187a2b-7e26-4159-8e71-23c22ab567ae",
   "metadata": {},
   "outputs": [
    {
     "name": "stdout",
     "output_type": "stream",
     "text": [
      "[[508.6275249]]\n"
     ]
    },
    {
     "data": {
      "text/plain": [
       "numpy.ndarray"
      ]
     },
     "execution_count": 23,
     "metadata": {},
     "output_type": "execute_result"
    }
   ],
   "source": [
    "# fsample = data_arr[0][0][0]#[0]#[0] # this accesses the fsample field\n",
    "# print(fsample)\n",
    "# type(fsample)"
   ]
  },
  {
   "cell_type": "code",
   "execution_count": 23,
   "id": "32667d36-c2fa-4d74-8fc0-48e691c78d8e",
   "metadata": {},
   "outputs": [],
   "source": [
    "class DataPrep:\n",
    "    '''Class for loading data in matlab format\n",
    "    \n",
    "    - \n",
    "    \n",
    "    \n",
    "    '''\n",
    "    def __init__(self, data_dir: str, sub: int):\n",
    "        self.data_dir = data_dir\n",
    "        self.cov = loadmat(f'{data_dir}/Sub_{sub}')\n",
    "        self.sig = sig\n",
    "        self.lcmv = lcmv\n",
    "        \n",
    "sub_1_cov = loadmat('data_clean_covmat_HCP_att2_1.mat')\n",
    "sub_1_sig = loadmat('data_clean_HCP_att2_1.mat', simplify_cells=True)\n",
    "sub_1_lcmv = loadmat('flt_LCMV_HCP_att2_1.mat')\n",
    "        \n"
   ]
  },
  {
   "cell_type": "code",
   "execution_count": null,
   "id": "8f47de56-9ed5-4ed1-9861-fa0475132113",
   "metadata": {},
   "outputs": [],
   "source": [
    "sub_1 = DataPrep(data_dir=data_dir, )"
>>>>>>> refs/remotes/origin/main
   ]
  },
  {
   "cell_type": "markdown",
   "id": "5aa5c0b5-78ad-4a89-9431-065c5fe440a1",
   "metadata": {},
   "source": [
<<<<<<< HEAD
    "1. co to są cell array w matlabie - wielowymiarowa lista\n",
    "2. array w matlab - przechowuje tylko jeden typ\n",
    "3. supfunsim - paper - klasy itd\n",
    "\n",
    "4. rm_output_data - usuwanie outputi\n",
    "5. skrypt integrate\n",
    "\n",
    "6. STAGE 1 source projection \n",
    "\n",
    "7. Beamforming - lcmv\n",
    "\n",
    "8. Use group atlas from commonData \n",
    "\n",
    "sub_1.data['hdr']['Fs'] #original sampling rate = 2034...\n",
    "\n",
    "sub_1.sig['data']['fsample'] # GO TO reduced sampling rate for computations = 508...\n",
    "\n",
    "9. Mnożenie '*' w Matlabie to matrix multip. '.*' \n",
    "\n",
    "sub_3.data['trial'][0].shape #badani mogą mieć różną liczbę kanałów, 509 próbek sygnału powinno być dla każdego\n",
    "\n",
    "(245, 509)\n",
    "\n",
    "CFG.(STAGE_NAME).frequenciesOfInterest = logspace(0, log10(40), 20);"
   ]
  },
  {
   "cell_type": "code",
   "execution_count": 10,
   "id": "7877fbe2-ccec-46ff-8488-a14e616debd6",
   "metadata": {},
   "outputs": [],
   "source": [
    "def sourceProjection(data, lcmv):\n",
    "    \n",
    "# \"\"\"  \n",
    "#   Calculates product of data matrix and spatial filter matrix in order to\n",
    "# perform source activity reconstruction.\n",
    "\n",
    "# More on the topic:\n",
    "# [1] K. Sekihara and S. S. Nagarajan, Adaptive Spatial Filters for\n",
    "#     Electromagnetic Brain Imaging. Berlin Heidelberg: Springer-Verlag, 2008.\n",
    "# % Inputs\n",
    "# *cfg* - [] (empty) in current version.\n",
    "\n",
    "# *data* - structure containing following fields:\n",
    "\n",
    "# _trial_ - cell containing 2D-arrays (sensors x time frames) signal values for\n",
    "# single epochs of the multichannel signal (time segments).\n",
    "\n",
    "# _time_ - cell containing 1D-arrays (1 x time frames) containing time\n",
    "# values for single epochs of the multichannel signal (time segments).\n",
    "\n",
    "# _label_ - cell containing names of the sensors (e.g. EEG electodes, MEG squids).\n",
    "\n",
    "# _fsample_ - double; sampling frequency in Hz\n",
    "\n",
    "# *spatialFilter* - double; 2D-array which represents spatial filter\n",
    "#                   coefficients used for reconstruction on brain activity\n",
    "#                   from sensors signal (see e.g. Van Veen 1997 to learn\n",
    "#                   about LCMV spatial filter).\n",
    "# % Outputs\n",
    "# *sourceTimeSeries* - structure containing following fields:\n",
    "\n",
    "# _trial_ - cell containing 2D-arrays (sources x time frames) reconstructed\n",
    "# source activity signal values for single epochs (time segments).\n",
    "\n",
    "# _time_ - cell containing 1D-arrays (1 x time frames) containing time\n",
    "# values for single epochs of the reconstructed activity signal.\n",
    "\n",
    "# _fsample_ - double; sampling frequency in Hz\n",
    "\n",
    "# _label_ - cell containing working names of the sources\n",
    "#           ({'src_1', 'src_2', ..., 'src_5998}).\n",
    "#   \"\"\"\n",
    "\n",
    "\n",
    "    print('Source projection ...')\n",
    "    sourceTimeSeries = {}\n",
    "# SOURCE PROJECTION: apply weights to a sensor signal\n",
    "    numTrials                    = len(data['trial'])\n",
    "    numSources                   = lcmv['spatialFilter'].shape[0]\n",
    "    sourceTimeSeries['trial']    = np.zeros(shape=(1, numTrials), dtype=object)\n",
    "    sourceTimeSeries['time']     = data['time']\n",
    "    sourceTimeSeries['fsample']  = data['fsample']\n",
    "    # sourceTimeSeries['label']    = np.empty((numSources, 1),dtype=\"S10\") # labels are needed to perform ft_freqanalysis\n",
    "\n",
    "    # for src in range(0,numSources):\n",
    "        # sourceTimeSeries['label'][src] = sourceTimeSeries['label'][src].tostring()\n",
    "        # sourceTimeSeries['label'][src] = 'src_'+str(src)\n",
    "    \n",
    "\n",
    "# # source projection: q = Wy\n",
    "    for tt in range(0,numTrials): #CHANGED FROM 1-indexing IN MATLAB\n",
    "        # print(lcmv['spatialFilter'].shape)\n",
    "        # print(data['trial'][tt].shape)\n",
    "        # print(sourceTimeSeries['trial'][0][tt].shape)\n",
    "        sourceTimeSeries['trial'][0][tt] = np.matmul(lcmv['spatialFilter'],data['trial'][tt])\n",
    "    \n",
    "\n",
    "#     if(isfield(data, 'sampleinfo'))\n",
    "#         sourceTimeSeries.sampleinfo = data.sampleinfo;\n",
    "#     end\n",
    "\n",
    "    return sourceTimeSeries\n",
    "    # return print('Number of trials: ', numTrials,'\\n',\n",
    "    #              'Number of signal sources: ', numSources, '\\n',\n",
    "    #              'Shape of sourceTimeSeries[trial]: ',sourceTimeSeries['trial'].shape,'\\n',\n",
    "    #              'Shape of sourceTimeSeries[time]: ',sourceTimeSeries['time'].shape,'\\n',\n",
    "    #              'Value of fsample: ', sourceTimeSeries['fsample'],'\\n',\n",
    "    #              'Shape of sourceTimeSeries[label]: '), print(numSources), sourceTimeSeries['trial'][0]"
   ]
  },
  {
   "cell_type": "code",
   "execution_count": 11,
   "id": "8ba0271d-9737-471a-b5de-ff0e58ad9a60",
   "metadata": {},
   "outputs": [
    {
     "name": "stdout",
     "output_type": "stream",
     "text": [
      "Source projection ...\n"
     ]
    }
   ],
   "source": [
    "sources = sourceProjection(sub_3.data, sub_3.lcmv)"
   ]
  },
  {
   "cell_type": "code",
   "execution_count": 13,
   "id": "0fb3868c-468b-4f3a-864d-d74c591e5ff6",
   "metadata": {},
   "outputs": [
    {
     "data": {
      "text/plain": [
       "dict_keys(['trial', 'time', 'fsample'])"
      ]
     },
     "execution_count": 13,
     "metadata": {},
     "output_type": "execute_result"
    }
   ],
   "source": [
    "sources.keys()"
   ]
  },
  {
   "cell_type": "code",
   "execution_count": 14,
   "id": "c57f886e-df91-4396-867c-e29c5237791c",
   "metadata": {},
   "outputs": [
    {
     "data": {
      "text/plain": [
       "508.62752490487884"
      ]
     },
     "execution_count": 14,
     "metadata": {},
     "output_type": "execute_result"
    }
   ],
   "source": []
=======
    
   ]
>>>>>>> refs/remotes/origin/main
  }
 ],
 "metadata": {
  "kernelspec": {
   "display_name": "Python 3 (ipykernel)",
   "language": "python",
   "name": "python3"
  },
  "language_info": {
   "codemirror_mode": {
    "name": "ipython",
    "version": 3
   },
   "file_extension": ".py",
   "mimetype": "text/x-python",
   "name": "python",
   "nbconvert_exporter": "python",
   "pygments_lexer": "ipython3",
<<<<<<< HEAD
   "version": "3.10.9"
=======
   "version": "3.8.2"
>>>>>>> refs/remotes/origin/main
  }
 },
 "nbformat": 4,
 "nbformat_minor": 5
}
