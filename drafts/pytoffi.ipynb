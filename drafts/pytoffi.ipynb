{
 "cells": [
  {
   "cell_type": "code",
   "execution_count": 2,
   "id": "6d8384f9-57ae-4937-8e8d-2cb52a93395d",
   "metadata": {},
   "outputs": [],
   "source": [
    "import numpy as np\n",
    "# import h5py \n",
    "# import tables\n",
    "from scipy.io import loadmat"
   ]
  },
  {
   "cell_type": "code",
   "execution_count": 3,
   "id": "519deb8b-cd39-48f0-9451-c807b0631f48",
   "metadata": {},
   "outputs": [],
   "source": [
    "data_dir = \"/Users/jan/Documents/Studia/AdvancedProgramming/project/ToFFi_Toolbox-master/ToFFi_Toolbox-20211013/DATA_PREPARATION/HCP_DATA_PREP/output/000000_RENAMED\""
   ]
  },
  {
   "cell_type": "code",
   "execution_count": 3,
   "id": "b0bb9210-a600-4acf-9a27-885b5d3b9811",
   "metadata": {},
   "outputs": [
    {
     "name": "stdout",
     "output_type": "stream",
     "text": [
      "/Users/jan/Documents/Studia/AdvancedProgramming/project/ToFFi_Toolbox-master/ToFFi_Toolbox-20211013/DATA_PREPARATION/HCP_DATA_PREP/output/000000_RENAMED/Sub_1\n"
     ]
    }
   ],
   "source": [
    "%cd '/Users/jan/Documents/Studia/AdvancedProgramming/project/ToFFi_Toolbox-master/ToFFi_Toolbox-20211013/DATA_PREPARATION/HCP_DATA_PREP/output/000000_RENAMED/Sub_1'"
   ]
  },
  {
   "cell_type": "code",
   "execution_count": 4,
   "id": "a7f7e47f-fa94-4788-b4ee-cfca0ae7c6aa",
   "metadata": {},
   "outputs": [
    {
     "name": "stdout",
     "output_type": "stream",
     "text": [
      "/Users/jan/Documents/Studia/AdvancedProgramming/project/PyToFFi\n"
     ]
    }
   ],
   "source": [
    "!pwd"
   ]
  },
  {
   "cell_type": "code",
   "execution_count": 5,
   "id": "96e584f7-75a4-488b-9494-943c8bf04f02",
   "metadata": {},
   "outputs": [],
   "source": [
    "# sub_1 = tables.open_file('data_clean_covmat_HCP_att2_1.mat')\n",
    "\n",
    "sub_1_cov = loadmat('data_clean_covmat_HCP_att2_1.mat')\n",
    "sub_1_sig = loadmat('data_clean_HCP_att2_1.mat', simplify_cells=True)\n",
    "sub_1_lcmv = loadmat('flt_LCMV_HCP_att2_1.mat')\n",
    "# sub_2 = f'{data_dir}/Sub_2/data_clean_covmat_HCP_att2_1.mat'\n",
    "# f=h5py.File(sub_1, 'r')\n",
    "\n",
    "\n",
    "# sub_1 = h5py.File(f'{data_dir}/Sub_1/data_clean_HCP_att2_1.mat','r') \n",
    "# data = sub_1.get('data/variable1') # Get a certain dataset\n",
    "# data = np.array(data)"
   ]
  },
  {
   "cell_type": "code",
   "execution_count": 7,
   "id": "6a9e57eb-1fbd-40c7-8292-c77cb8447128",
   "metadata": {},
   "outputs": [
    {
     "data": {
      "text/plain": [
       "-2.460787640915133e-13"
      ]
     },
     "execution_count": 7,
     "metadata": {},
     "output_type": "execute_result"
    }
   ],
   "source": [
    "sub_1_sig['data']['trial'][0][0][0]#[0][0][0] # this accesses single value"
   ]
  },
  {
   "cell_type": "code",
   "execution_count": 9,
   "id": "958b4b26-22d6-403f-bdd5-6b6519bf5a8f",
   "metadata": {},
   "outputs": [
    {
     "data": {
      "text/plain": [
       "dict_keys(['__header__', '__version__', '__globals__', 'data'])"
      ]
     },
     "execution_count": 9,
     "metadata": {},
     "output_type": "execute_result"
    }
   ],
   "source": [
    "sub_1_sig.keys()"
   ]
  },
  {
   "cell_type": "code",
   "execution_count": 10,
   "id": "0def78cc-1a17-4384-a639-78f267981427",
   "metadata": {},
   "outputs": [
    {
     "data": {
      "text/plain": [
       "dict"
      ]
     },
     "execution_count": 10,
     "metadata": {},
     "output_type": "execute_result"
    }
   ],
   "source": [
    "data_arr = sub_1_sig['data']\n",
    "type(data_arr)"
   ]
  },
  {
   "cell_type": "code",
   "execution_count": 11,
   "id": "28a1ae45-a4ce-4ea7-86f3-2e32a5537bda",
   "metadata": {},
   "outputs": [
    {
     "data": {
      "text/plain": [
       "dict_keys(['fsample', 'hdr', 'grad', 'sampleinfo', 'trial', 'time', 'label', 'cfg'])"
      ]
     },
     "execution_count": 11,
     "metadata": {},
     "output_type": "execute_result"
    }
   ],
   "source": [
    "data_arr.keys()"
   ]
  },
  {
   "cell_type": "code",
   "execution_count": 20,
   "id": "28e4f657-6116-4f7f-aaf7-2ce013fac689",
   "metadata": {},
   "outputs": [
    {
     "name": "stdout",
     "output_type": "stream",
     "text": [
      "508.62752490487884\n"
     ]
    }
   ],
   "source": [
    "print(data_arr['fsample']) #sampling rate?\n",
    "# print(data_arr['cfg'])"
   ]
  },
  {
   "cell_type": "code",
   "execution_count": 23,
   "id": "b8187a2b-7e26-4159-8e71-23c22ab567ae",
   "metadata": {},
   "outputs": [
    {
     "name": "stdout",
     "output_type": "stream",
     "text": [
      "[[508.6275249]]\n"
     ]
    },
    {
     "data": {
      "text/plain": [
       "numpy.ndarray"
      ]
     },
     "execution_count": 23,
     "metadata": {},
     "output_type": "execute_result"
    }
   ],
   "source": [
    "# fsample = data_arr[0][0][0]#[0]#[0] # this accesses the fsample field\n",
    "# print(fsample)\n",
    "# type(fsample)"
   ]
  },
  {
   "cell_type": "code",
   "execution_count": 27,
   "id": "32667d36-c2fa-4d74-8fc0-48e691c78d8e",
   "metadata": {},
   "outputs": [],
   "source": [
    "class DataPrep:\n",
    "    '''Class for loading data in matlab format\n",
    "    \n",
    "    - Obligatory data structures with fields:\n",
    "        - Data: self.sig['data']\n",
    "            - trial \n",
    "            - time\n",
    "            - label\n",
    "            - fsample\n",
    "        - spatial filter: self.lcmv['spatialFilter']\n",
    "    \n",
    "    \n",
    "    '''\n",
    "    def __init__(self, data_dir: str, sub: int):\n",
    "        self.data_dir = data_dir\n",
    "        self.cov = loadmat(f'{data_dir}/Sub_{sub}/data_clean_covmat_HCP_att2_1.mat', simplify_cells=True)\n",
    "        self.sig = loadmat(f'{data_dir}/Sub_{sub}/data_clean_HCP_att2_1.mat', simplify_cells=True)\n",
    "        self.lcmv = loadmat(f'{data_dir}/Sub_{sub}/flt_LCMV_HCP_att2_1.mat', simplify_cells=True)\n",
    "        \n",
    "        self.fsample = self.sig['data']['fsample']\n",
    "        self.trial = self.\n",
    "\n",
    "        \n"
   ]
  },
  {
   "cell_type": "code",
   "execution_count": 28,
   "id": "8f47de56-9ed5-4ed1-9861-fa0475132113",
   "metadata": {},
   "outputs": [],
   "source": [
    "sub_1 = DataPrep(data_dir=data_dir, sub=1)"
   ]
  },
  {
   "cell_type": "code",
   "execution_count": 25,
   "id": "e1f16830-73d7-4378-a920-9c5cd7c521b0",
   "metadata": {},
   "outputs": [
    {
     "data": {
      "text/plain": [
       "2034.5100996195154"
      ]
     },
     "execution_count": 25,
     "metadata": {},
     "output_type": "execute_result"
    }
   ],
   "source": [
    "sub_1.sig['data']['hdr']['Fs'] #original sampling rate"
   ]
  },
  {
   "cell_type": "code",
   "execution_count": 26,
   "id": "52abec98-ba03-42b2-ac21-313d671e24fd",
   "metadata": {},
   "outputs": [
    {
     "data": {
      "text/plain": [
       "508.62752490487884"
      ]
     },
     "execution_count": 26,
     "metadata": {},
     "output_type": "execute_result"
    }
   ],
   "source": [
    "sub_1.sig['data']['fsample'] # GO TO reduced sampling rate for computations"
   ]
  },
  {
   "cell_type": "markdown",
   "id": "5aa5c0b5-78ad-4a89-9431-065c5fe440a1",
   "metadata": {},
   "source": [
    "1. co to są cell array w matlabie - wielowymiarowa lista\n",
    "2. array w matlab - przechowuje tylko jeden typ\n",
    "3. supfunsim - paper - klasy itd\n",
    "\n",
    "4. rm_output_data - usuwanie outputi\n",
    "5. skrypt integrate\n",
    "\n",
    "6. STAGE 1 source projection \n",
    "\n",
    "7. Beamforming - lcmv"
   ]
  }
 ],
 "metadata": {
  "kernelspec": {
   "display_name": "Python 3 (ipykernel)",
   "language": "python",
   "name": "python3"
  },
  "language_info": {
   "codemirror_mode": {
    "name": "ipython",
    "version": 3
   },
   "file_extension": ".py",
   "mimetype": "text/x-python",
   "name": "python",
   "nbconvert_exporter": "python",
   "pygments_lexer": "ipython3",
   "version": "3.8.2"
  }
 },
 "nbformat": 4,
 "nbformat_minor": 5
}
